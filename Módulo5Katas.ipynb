{
  "cells": [
    {
      "cell_type": "markdown",
      "metadata": {},
      "source": [
        "# Ejercicio1 - Utilizar operadores aritméticos"
      ]
    },
    {
      "cell_type": "markdown",
      "metadata": {},
      "source": [
        "### Operadores aritméticos en Python\n",
        "\n",
        "Exploremos cómo podemos crear un programa que pueda calcular la distancia entre dos planetas.  Comenzaremos usando dos distancias de planetas: Tierra (149.597.870 km) y Júpiter (778.547.200 km)."
      ]
    },
    {
      "cell_type": "code",
      "execution_count": 2,
      "metadata": {},
      "outputs": [],
      "source": [
        "tierra = 149597870\n",
        "jupiter = 778547200"
      ]
    },
    {
      "cell_type": "markdown",
      "metadata": {},
      "source": [
        "### Realizar la operación\n",
        "\n",
        "Con los valores obtenidos, es el momento de añadir el código para realizar la operación. Restarás el primer planeta del segundo para determinar la distancia en kilómetros. A continuación, puedes convertir la distancia del kilómetro en millas multiplicándola por `0.621`."
      ]
    },
    {
      "cell_type": "code",
      "execution_count": 3,
      "metadata": {},
      "outputs": [
        {
          "name": "stdout",
          "output_type": "stream",
          "text": [
            "628949330\n",
            "390577533.93\n"
          ]
        }
      ],
      "source": [
        "distancia_km = jupiter - tierra\n",
        "print (distancia_km)\n",
        "distancia_mi = distancia_km * 0.621\n",
        "print (distancia_mi)"
      ]
    },
    {
      "cell_type": "markdown",
      "metadata": {},
      "source": [
        "## Ejercicio 2: convierte cadenas en números y usa valores absolutos\n",
        "\n",
        "### Crear una aplicación para trabajar con números y entrada de usuario"
      ]
    },
    {
      "cell_type": "markdown",
      "metadata": {},
      "source": [
        "### Lee los valores\n",
        "Usando `input`, agrega el código para leer la distancia del sol para cada planeta, considerando 2 planetas."
      ]
    },
    {
      "cell_type": "code",
      "execution_count": 4,
      "metadata": {},
      "outputs": [],
      "source": [
        "primer_planeta = input ('Coloca la distancia al Sol del primer planeta en km')\n",
        "segundo_planeta = input ('Coloca la distancia al Sol del segundo planeta en km')"
      ]
    },
    {
      "cell_type": "markdown",
      "metadata": {},
      "source": [
        "### Convertir a número\n",
        "Debido a que `input` devuelve valores de cadena, necesitamos convertirlos en números. Para nuestro ejemplo, usaremos `int`"
      ]
    },
    {
      "cell_type": "code",
      "execution_count": 5,
      "metadata": {},
      "outputs": [],
      "source": [
        "distancia_uno = int (primer_planeta)\n",
        "distancia_dos = int (segundo_planeta)"
      ]
    },
    {
      "cell_type": "markdown",
      "metadata": {},
      "source": [
        "### Realizar el cálculo y convertir a valor absoluto\n",
        "\n",
        "Con los valores almacenados como números, ahora puedes agregar el código para realizar el cálculo, restando el primer planeta del segundo. Debido a que el segundo planeta podría ser un número mayor, usarás `abs` para convertirlo a un valor absoluto. También agregarás el código para mostrar el resultado en millas multiplicando la distancia del kilómetro por 0.621"
      ]
    },
    {
      "cell_type": "code",
      "execution_count": 6,
      "metadata": {},
      "outputs": [],
      "source": [
        "distancia_km = abs (distancia_dos - distancia_uno)\n",
        "print (distancia_km)\n",
        "distancia_mi = distancia_km * 0.621\n",
        "print (distancia_mi)"
      ]
    },
    {
      "cell_type": "markdown",
      "metadata": {},
      "source": [
        "### Prueba tu aplicación\n",
        "Para probar el proyecto, ejecuta tu notebook. En la parte superior de vscode surgirá un cuadro de diálogo para que proporciones las distancias. Puede utilizar los datos de la tabla siguiente:\n",
        "\n",
        "| Planeta  | Distancia al sol |\n",
        "| ------- | ----------------- |\n",
        "| Mercurio | 57900000          |\n",
        "| Venus   | 108200000         |\n",
        "| Tierra   | 149600000         |\n",
        "| Marte    | 227900000         |\n",
        "| Júpiter | 778600000         |\n",
        "| Saturno  | 1433500000        |\n",
        "| Urano  | 2872500000        |\n",
        "| Neptuno | 4495100000        |"
      ]
    }
  ],
  "metadata": {
    "interpreter": {
      "hash": "502cd6c3b6c9e666d195e1caff9d64ea12bf644e547a4c8fae84812082c54b6f"
    },
    "kernel_info": {
      "name": "conda-env-py37_default-py"
    },
    "kernelspec": {
      "display_name": "py37_default",
      "language": "python",
      "name": "python3"
    },
    "language_info": {
      "codemirror_mode": {
        "name": "ipython",
        "version": 3
      },
      "file_extension": ".py",
      "mimetype": "text/x-python",
      "name": "python",
      "nbconvert_exporter": "python",
      "pygments_lexer": "ipython3",
      "version": "3.10.0"
    },
    "nteract": {
      "version": "nteract-front-end@1.0.0"
    },
    "orig_nbformat": 4
  },
  "nbformat": 4,
  "nbformat_minor": 2
}
