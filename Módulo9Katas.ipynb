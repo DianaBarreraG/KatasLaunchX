{
  "cells": [
    {
      "cell_type": "markdown",
      "metadata": {},
      "source": [
        "# Ejercicio: Uso de funciones en Python"
      ]
    },
    {
      "cell_type": "markdown",
      "metadata": {},
      "source": [
        "### Ejercicio 1: Trabajar con argumentos en funciones"
      ]
    },
    {
      "cell_type": "markdown",
      "metadata": {},
      "source": [
        "Comienza por crear una función que necesite tres lecturas de combustible y devuelva un informe:"
      ]
    },
    {
      "cell_type": "code",
      "execution_count": null,
      "metadata": {},
      "outputs": [],
      "source": [
        "def informe (tanque_superior, tanque_intermedio, tanque_inferior):\n",
        "    total = (tanque_superior + tanque_intermedio + tanque_inferior) / 3\n",
        "    return f\"\"\"Informe de combustible:\n",
        "    Total: {total}%\n",
        "    Tanque superior: {tanque_superior}%\n",
        "    Tanque intermedio: {tanque_intermedio}%\n",
        "    Tanque inferior: {tanque_inferior}% \n",
        "    \"\"\"\n"
      ]
    },
    {
      "cell_type": "markdown",
      "metadata": {},
      "source": [
        "Ahora que hemos definido la función de informes, vamos a comprobarlo. Para esta misión, los tanques no están llenos:"
      ]
    },
    {
      "cell_type": "code",
      "execution_count": null,
      "metadata": {},
      "outputs": [],
      "source": [
        "\n",
        "print (informe(85, 65, 75))"
      ]
    },
    {
      "cell_type": "markdown",
      "metadata": {},
      "source": [
        "En lugar de simplemente crear el informe, la función también está calculando el promedio. Mejora la legibilidad extrayendo el cálculo promedio de la función en una nueva función para que el promedio se pueda hacer de forma independiente:"
      ]
    },
    {
      "cell_type": "code",
      "execution_count": null,
      "metadata": {},
      "outputs": [],
      "source": [
        "def promedio (tanques):\n",
        "    total = sum (tanques)\n",
        "    valores = len(tanques)\n",
        "    return total / valores\n"
      ]
    },
    {
      "cell_type": "markdown",
      "metadata": {},
      "source": [
        "Ahora actualiza la función de informes para llamando a la nueva función del promedio:\n"
      ]
    },
    {
      "cell_type": "code",
      "execution_count": null,
      "metadata": {},
      "outputs": [],
      "source": [
        "def informe (tanque_superior, tanque_intermedio, tanque_inferior):\n",
        "    return f\"\"\"Informe de combustible:\n",
        "    Total: {promedio([tanque_superior, tanque_intermedio, tanque_inferior])}%\n",
        "    Tanque superior: {tanque_superior}%\n",
        "    Tanque intermedio: {tanque_intermedio}%\n",
        "    Tanque inferior: {tanque_inferior}% \n",
        "    \"\"\""
      ]
    },
    {
      "cell_type": "markdown",
      "metadata": {},
      "source": [
        "## Ejercicio 2: Trabajo con argumentos de palabra clave"
      ]
    },
    {
      "cell_type": "markdown",
      "metadata": {},
      "source": [
        "### Ejercicio : Trabajar con argumentos de palabras clave en funciones\n",
        "En este ejercicio, construirás un informe de cohete que requiere varias piezas de información, como el tiempo hasta el destino, el combustible a la izquierda y el nombre del destino. Comienza por crear una función que creará un informe preciso de la misión:"
      ]
    },
    {
      "cell_type": "code",
      "execution_count": null,
      "metadata": {},
      "outputs": [],
      "source": [
        "def informe_mision (prelanzamiento, tiempo_vuelo, destino, tanque_intermedio, tanque_superior):\n",
        "    return f\"\"\"\n",
        "    Mision a {destino}\n",
        "    Tiempo de viaje: {prelanzamiento + tiempo_vuelo} minutos\n",
        "    Combustible total: {tanque_intermedio + tanque_superior} litros\n",
        "    \"\"\""
      ]
    },
    {
      "cell_type": "markdown",
      "metadata": {},
      "source": [
        "La función es problemática porque no se puede adaptar para minutos adicionales o tanques adicionales de combustible. Hazlo más flexible permitiendo cualquier número de pasos basados en el tiempo y cualquier número de tanques. En lugar de usar `*args` y `**kwargs`, aprovecha el hecho de que puedes usar cualquier nombre que desees. Asegurate que la función sea más legible mediante el uso de nombres de variables que están asociados con las entradas, como `*minutes` y `**fuel_reservoirs`:"
      ]
    },
    {
      "cell_type": "code",
      "execution_count": null,
      "metadata": {},
      "outputs": [],
      "source": [
        "def informe_mision(destino, *minutos_adicionales, **combustible_adicional):\n",
        "    return f\"\"\"\n",
        "    Mision a {destino}\n",
        "    Tiempo de viaje: {sum (minutos_adicionales)} minutos\n",
        "    Combustible total: {sum (combustible_adicional.values())}\n",
        "    \"\"\""
      ]
    },
    {
      "cell_type": "markdown",
      "metadata": {},
      "source": [
        "Debido a que el combustible que queda en los tanques es específico de cada tanque, actualiza la función para usar el nombre de cada tanque en el informe:"
      ]
    },
    {
      "cell_type": "code",
      "execution_count": null,
      "metadata": {},
      "outputs": [],
      "source": [
        "def informe_mision (destino, *minutos_adicionales, **combustible_adicional):\n",
        "    informe_general = f\"\"\"\n",
        "    Mision a {destino}\n",
        "    Tiempo de viaje: {sum (minutos_adicionales)} minutos\n",
        "    Combustible total: {sum (combustible_adicional.values())}\n",
        "    \"\"\"\n",
        "    for tanque, litros in combustible_adicional.items():\n",
        "        informe_general += f\"{tanque} {litros} litros totales\\n\"\n",
        "    return informe_general"
      ]
    }
  ],
  "metadata": {
    "interpreter": {
      "hash": "205095b8b86ea82a021a8fc2ffba2b3bc9f8d0be25999901963b225939f75778"
    },
    "kernelspec": {
      "display_name": "Python 3.8.10 64-bit ('tmp': conda)",
      "name": "python3"
    },
    "language_info": {
      "codemirror_mode": {
        "name": "ipython",
        "version": 3
      },
      "file_extension": ".py",
      "mimetype": "text/x-python",
      "name": "python",
      "nbconvert_exporter": "python",
      "pygments_lexer": "ipython3",
      "version": "3.8.10"
    },
    "nteract": {
      "version": "nteract-front-end@1.0.0"
    },
    "orig_nbformat": 4
  },
  "nbformat": 4,
  "nbformat_minor": 2
}
