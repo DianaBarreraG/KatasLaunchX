{
  "cells": [
    {
      "cell_type": "markdown",
      "metadata": {},
      "source": [
        "## Tracebacks"
      ]
    },
    {
      "cell_type": "markdown",
      "metadata": {},
      "source": [
        "<img src = \"K10_1.png\">"
      ]
    },
    {
      "cell_type": "markdown",
      "metadata": {},
      "source": [
        "<img src = \"K10_2.png\">"
      ]
    },
    {
      "cell_type": "markdown",
      "metadata": {},
      "source": [
        "## Try y Except de los bloques"
      ]
    },
    {
      "cell_type": "code",
      "execution_count": null,
      "metadata": {},
      "outputs": [],
      "source": [
        "def main():\n",
        "    try:\n",
        "        configuration = open('config.txt')\n",
        "    except FileNotFoundError:\n",
        "        print(\"Couldn't find the config.txt file!\")\n",
        "    except IsADirectoryError:\n",
        "        print(\"Found config.txt but it is a directory, couldn't read it\")"
      ]
    },
    {
      "cell_type": "code",
      "execution_count": null,
      "metadata": {},
      "outputs": [],
      "source": [
        "def main():\n",
        "    try:\n",
        "        configuration = open('config.txt')\n",
        "    except FileNotFoundError:\n",
        "        print(\"Couldn't find the config.txt file!\")\n",
        "    except IsADirectoryError:\n",
        "        print(\"Found config.txt but it is a directory, couldn't read it\")\n",
        "    except (BlockingIOError, TimeoutError):\n",
        "        print(\"Filesystem under heavy load, can't complete reading configuration file\") "
      ]
    },
    {
      "cell_type": "code",
      "execution_count": null,
      "metadata": {},
      "outputs": [],
      "source": [
        "try:\n",
        "    open(\"config.txt\")\n",
        "except OSError as err:\n",
        "    if err.errno == 2:\n",
        "        print(\"Couldn't find the config.txt file!\")\n",
        "    elif err.errno == 13:\n",
        "        print(\"Found config.txt but couldn't read it\")"
      ]
    },
    {
      "cell_type": "markdown",
      "metadata": {},
      "source": [
        "## Generación de excepciones"
      ]
    },
    {
      "cell_type": "code",
      "execution_count": 2,
      "metadata": {},
      "outputs": [
        {
          "data": {
            "text/plain": [
              "'Total water left after 2 days is: -10 liters'"
            ]
          },
          "execution_count": 2,
          "metadata": {},
          "output_type": "execute_result"
        }
      ],
      "source": [
        "def water_left(astronauts, water_left, days_left):\n",
        "    daily_usage = astronauts * 11\n",
        "    total_usage = daily_usage * days_left\n",
        "    total_water_left = water_left - total_usage\n",
        "    return f\"Total water left after {days_left} days is: {total_water_left} liters\"\n",
        "\n",
        "water_left(5, 100, 2)"
      ]
    },
    {
      "cell_type": "markdown",
      "metadata": {},
      "source": [
        "<img src = \"K10_3.png\">"
      ]
    },
    {
      "cell_type": "markdown",
      "metadata": {},
      "source": [
        "<img src = \"K10_4.png\">"
      ]
    },
    {
      "cell_type": "markdown",
      "metadata": {},
      "source": [
        "<img src = 'K10_5.png' >"
      ]
    }
  ],
  "metadata": {
    "interpreter": {
      "hash": "85698077abecf5f8f113c53b9360fbacc8ad19c08c5e26cc1c8a281d6153204f"
    },
    "kernel_info": {
      "name": "conda-env-py37_default-py"
    },
    "kernelspec": {
      "display_name": "py37_default",
      "language": "python",
      "name": "python3"
    },
    "language_info": {
      "codemirror_mode": {
        "name": "ipython",
        "version": 3
      },
      "file_extension": ".py",
      "mimetype": "text/x-python",
      "name": "python",
      "nbconvert_exporter": "python",
      "pygments_lexer": "ipython3",
      "version": "3.10.0"
    },
    "nteract": {
      "version": "nteract-front-end@1.0.0"
    },
    "orig_nbformat": 4
  },
  "nbformat": 4,
  "nbformat_minor": 2
}
